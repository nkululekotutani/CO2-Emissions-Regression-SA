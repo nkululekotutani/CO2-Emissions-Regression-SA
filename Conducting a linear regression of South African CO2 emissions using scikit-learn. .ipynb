{
 "cells": [
  {
   "cell_type": "code",
   "execution_count": 58,
   "id": "10da7935",
   "metadata": {},
   "outputs": [],
   "source": [
    "# Import libraries\n",
    "import pandas as pd\n",
    "import numpy as np\n",
    "from sklearn import metrics\n",
    "\n",
    "from sklearn.linear_model import LinearRegression\n",
    "from sklearn.metrics import r2_score\n",
    "\n",
    "import seaborn as sns"
   ]
  },
  {
   "cell_type": "markdown",
   "id": "0647dcac",
   "metadata": {},
   "source": [
    "## Theory\n",
    "Energy is crucial for production. A rise in the production levels of country will result in an increase in energy consumption. The majority of the energy will come from unclean sources which will culminate in higher CO2 emission levels. Considering all things to be equal, a higher population size consumes more energy which leads to higher emission levels.  This notebook investigates the relationship between GDP, population size and CO2 emissions in South Africa. To do this, it uses data from the World Bank.\n",
    "\n",
    "## Findings \n",
    "The coefficients are 1.26962844e-07 and 6.75158649e-03 respectively. This indicates that population size has a greater effect on CO2 emissions than GDP. In addition they were both positive which is line with theory. The intercept is 11660 while the R2 value is 0.88 which indicates high correlation levels. "
   ]
  },
  {
   "cell_type": "code",
   "execution_count": 93,
   "id": "8766f65a",
   "metadata": {},
   "outputs": [
    {
     "name": "stdout",
     "output_type": "stream",
     "text": [
      "Coefficients: [1.26962844e-07 6.75158649e-03]\n",
      "Intercept: 11660\n",
      "R2: 0.88\n"
     ]
    }
   ],
   "source": [
    "# Read CSV\n",
    "df = pd.read_csv('SA Statistics.csv')\n",
    "\n",
    "# Drop columns to match data\n",
    "df.drop(['2019', '2020'], axis=1)\n",
    "\n",
    "# Transform df from wide form to long form data\n",
    "df1 = pd.melt(df, id_vars=['Indicator Name', 'Indicator Code'],\n",
    "                            var_name='Year', value_name='Value')\n",
    "\n",
    "# Select GDP and CO2 data\n",
    "df2 = df1.loc[(df1['Indicator Code']=='NY.GDP.MKTP.CD')|\n",
    "              (df1['Indicator Code']=='SP.POP.TOTL')| \n",
    "              (df1['Indicator Code']=='EN.ATM.CO2E.KT')]\n",
    "\n",
    "\n",
    "# Drop 'Indicator Code', not required anymore\n",
    "df2.drop(['Indicator Code'], axis=1)\n",
    "\n",
    "df3 = df2.pivot(index = ['Year'], \n",
    "                columns = ['Indicator Name'], \n",
    "                values = ['Value']).droplevel(level = 0, axis = 1)\n",
    "\n",
    "df3.columns = ['CO2 emissions (kt)', 'GDP (current US$)', 'Population, total']\n",
    "\n",
    "df4 = df3.reset_index()\n",
    "df5 = df4.dropna(axis=0)\n",
    "\n",
    "# Set variables\n",
    "X = df5[['GDP (current US$)', 'Population, total']]\n",
    "y = df5['CO2 emissions (kt)']\n",
    "\n",
    "# Auto-correlation\n",
    "serial_corr1 =  \n",
    "\n",
    "# Fitting\n",
    "lin_reg_model = LinearRegression()\n",
    "\n",
    "lin_reg_model.fit(X, y)\n",
    "\n",
    "lin_reg_model.coef_\n",
    "\n",
    "y_true=y\n",
    "y_predict=lin_reg_model.predict(X)\n",
    "\n",
    "\n",
    "print('Coefficients:', lin_reg_model.coef_)\n",
    "print('Intercept:', round(lin_reg_model.intercept_))\n",
    "print('R2:', round(r2_score(y_true, y_predict), 2))"
   ]
  },
  {
   "cell_type": "code",
   "execution_count": null,
   "id": "946d874b",
   "metadata": {},
   "outputs": [],
   "source": []
  },
  {
   "cell_type": "code",
   "execution_count": null,
   "id": "554b210f",
   "metadata": {},
   "outputs": [],
   "source": []
  },
  {
   "cell_type": "code",
   "execution_count": null,
   "id": "87aa5470",
   "metadata": {},
   "outputs": [],
   "source": []
  }
 ],
 "metadata": {
  "kernelspec": {
   "display_name": "Python 3",
   "language": "python",
   "name": "python3"
  },
  "language_info": {
   "codemirror_mode": {
    "name": "ipython",
    "version": 3
   },
   "file_extension": ".py",
   "mimetype": "text/x-python",
   "name": "python",
   "nbconvert_exporter": "python",
   "pygments_lexer": "ipython3",
   "version": "3.8.8"
  }
 },
 "nbformat": 4,
 "nbformat_minor": 5
}
